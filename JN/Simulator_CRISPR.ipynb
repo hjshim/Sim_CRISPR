{
 "cells": [
  {
   "cell_type": "code",
   "execution_count": 1,
   "metadata": {},
   "outputs": [],
   "source": [
    "# Copyright 2019 The Authors. All Rights Reserved.\n",
    "#\n",
    "# GNU General Public License v3.0\n",
    "# Permissions of this strongest copyleft license are conditioned on \n",
    "# making available complete source code of licensed works and modifications, \n",
    "# which include larger works using a licensed work, under the same license. \n",
    "# Copyright and license notices must be preserved. \n",
    "# Contributors provide an express grant of patent rights. \n",
    "# When a modified version is used to provide a service over a network, \n",
    "# the complete source code of the modified version must be made available.\n",
    "# ==============================================================================\n",
    "\n",
    "# Title: Simulating the evolution of CRISPR\n",
    "# Author: Hyunjin Shim\n",
    "# Date created: 20200727\n",
    "# Email: jinenstar@gmail.com"
   ]
  },
  {
   "cell_type": "markdown",
   "metadata": {},
   "source": [
    "# Simulating the evolution of CRISPR\n",
    "## Step 1:"
   ]
  },
  {
   "cell_type": "code",
   "execution_count": 2,
   "metadata": {},
   "outputs": [],
   "source": [
    "### packages\n",
    "\n",
    "# Data\n",
    "from typing import Dict, List, Tuple\n",
    "from pathlib import Path \n",
    "import glob\n",
    "import numpy as np\n",
    "\n",
    "# Biopython\n",
    "from Bio import SeqIO\n",
    "from Bio.SeqRecord import SeqRecord\n",
    "\n",
    "# Math\n",
    "import random\n",
    "\n",
    "# Plot\n",
    "import matplotlib.pyplot as plt"
   ]
  },
  {
   "cell_type": "code",
   "execution_count": 3,
   "metadata": {},
   "outputs": [],
   "source": [
    "### global variables\n",
    "\n",
    "random.seed(20200727)\n",
    "nt = ['A','T','G','C']\n",
    "\n",
    "# mutation rate: based on bacteria\n",
    "MUTATION_RATE = 1e-7\n",
    "\n",
    "# generation: based on generation time of bacteria (1 hour per gen: 1e6/24/365=114 years)\n",
    "GENERATION = 1000000"
   ]
  },
  {
   "cell_type": "code",
   "execution_count": 4,
   "metadata": {},
   "outputs": [],
   "source": [
    "### functions\n",
    "\n",
    "# extract information from fasta files\n",
    "def extract_dataset_info(records: List[SeqRecord]) -> Dict:\n",
    "    # contains info on SeqIO data\n",
    "    seqs_id = [r.id for r in records]\n",
    "    seqs_len = [len(r.seq) for r in records]\n",
    "    seqs = [str(r.seq) for r in records]\n",
    "#    int_seqs = [[nt_vocab[nt] for nt in s] for s in seqs]\n",
    "    d = {\"ID\":seqs_id, \"Seq\":seqs, \"Length\":seqs_len} #\"Int_Seq\":int_seqs, \n",
    "    return d\n",
    "\n",
    "# simulate mutation on a sequence\n",
    "# Finite sites model: A model for the process of mutation acting on DNA sequences of finite length so that the same site may experience a mutation more than once\n",
    "def sim_mutation(times, mu_rate, seq):\n",
    "    gen = 0 # count generation\n",
    "    seq_len = len(seq)\n",
    "    for i in range(times):\n",
    "        mu = np.random.binomial(seq_len, mu_rate)\n",
    "        gen += 1\n",
    "        if mu !=0:\n",
    "            mu_nt = random.choice(nt)\n",
    "            mu_position = random.choice(range(seq_len))\n",
    "            while mu_nt == seq[mu_position]:\n",
    "                #print(\"same nt: \", gen, mu_position, seq[mu_position], mu_nt)\n",
    "                mu_nt = random.choice(nt)\n",
    "            else:\n",
    "                #print(gen, mu_position, seq[mu_position], mu_nt)\n",
    "                string_seq = list(seq)\n",
    "                string_seq[mu_position] = mu_nt\n",
    "                seq = \"\".join(string_seq)\n",
    "    return(seq)"
   ]
  },
  {
   "cell_type": "code",
   "execution_count": 5,
   "metadata": {},
   "outputs": [],
   "source": [
    "### data\n",
    "\n",
    "# location of raw data file\n",
    "datapath = Path(\"/Users/jinenstar/Desktop/Data/CRISPR/CRISPR-Cas++/Repeat/Data_DR\")\n",
    "\n",
    "# data dictionary\n",
    "repeat_data_info = {\"TypeI\": {}, \"TypeII\": {}}\n",
    "\n",
    "# load test sequences\n",
    "for f in datapath.glob(\"TypeI?.fa\"):\n",
    "  records = list(SeqIO.parse(str(f), \"fasta\"))\n",
    "  key = f.stem\n",
    "  repeat_data_info[\"TypeI\"][key] = extract_dataset_info(records)\n",
    "\n",
    "# load test sequences\n",
    "for f in datapath.glob(\"TypeII?.fa\"):\n",
    "  records = list(SeqIO.parse(str(f), \"fasta\"))\n",
    "  key = f.stem\n",
    "  repeat_data_info[\"TypeII\"][key] = extract_dataset_info(records)"
   ]
  },
  {
   "cell_type": "code",
   "execution_count": 6,
   "metadata": {},
   "outputs": [
    {
     "name": "stdout",
     "output_type": "stream",
     "text": [
      "dict_keys(['TypeIB', 'TypeIF', 'TypeIC', 'TypeIU', 'TypeIV', 'TypeID', 'TypeIA', 'TypeIE'])\n",
      "dict_keys(['TypeIIC', 'TypeIIB', 'TypeIIA'])\n"
     ]
    }
   ],
   "source": [
    "#print(repeat_data_info.items())\n",
    "#print(repeat_data_info.keys())\n",
    "#print(repeat_data_info.values())\n",
    "print(repeat_data_info[\"TypeI\"].keys())\n",
    "print(repeat_data_info[\"TypeII\"].keys())"
   ]
  },
  {
   "cell_type": "code",
   "execution_count": 7,
   "metadata": {},
   "outputs": [
    {
     "name": "stdout",
     "output_type": "stream",
     "text": [
      "GTGCTCAACGCCTTACGGCATCAGAGGTTATATCAC\n",
      "GTGCTCAACGCCTTACGGCCTCAGAGCTTATATCAC\n"
     ]
    }
   ],
   "source": [
    "test = repeat_data_info[\"TypeI\"][\"TypeIA\"][\"Seq\"][0]\n",
    "m = sim_mutation(GENERATION, MUTATION_RATE, test)\n",
    "print(test)\n",
    "print(m)"
   ]
  },
  {
   "cell_type": "code",
   "execution_count": 8,
   "metadata": {
    "scrolled": true
   },
   "outputs": [],
   "source": [
    "test_seq_evolved_2 = {}\n",
    "\n",
    "for k in repeat_data_info[\"TypeII\"].keys():\n",
    "    dataset = repeat_data_info[\"TypeII\"][k]\n",
    "    test_seq = dataset[\"Seq\"]\n",
    "\n",
    "    test_seq_evolved_pertype_2 = []\n",
    "    for i in test_seq:\n",
    "        test_seq_evolved_pertype_2.append(sim_mutation(GENERATION, MUTATION_RATE, i))\n",
    "    \n",
    "    test_seq_evolved_2[k] = test_seq_evolved_pertype_2  "
   ]
  },
  {
   "cell_type": "code",
   "execution_count": 9,
   "metadata": {},
   "outputs": [],
   "source": [
    "test = test_seq_evolved_2\n",
    "\n",
    "for k in repeat_data_info[\"TypeII\"].keys():\n",
    "    with open('Simulated_' + str(k) + '.fa', 'w') as f:\n",
    "        for i in range(len(test[k])):\n",
    "            f.write(\">\" + str(repeat_data_info[\"TypeII\"][k][\"ID\"][i]) + \"\\n\" + str(test[k][i]) + \"\\n\")      "
   ]
  },
  {
   "cell_type": "code",
   "execution_count": null,
   "metadata": {},
   "outputs": [],
   "source": [
    "test_seq_evolved_1 = {}\n",
    "\n",
    "for k in repeat_data_info[\"TypeI\"].keys():\n",
    "    dataset = repeat_data_info[\"TypeI\"][k]\n",
    "    test_seq = dataset[\"Seq\"]\n",
    "\n",
    "    test_seq_evolved_pertype_1 = []\n",
    "    for i in test_seq:\n",
    "        test_seq_evolved_pertype_1.append(sim_mutation(GENERATION, MUTATION_RATE, i))\n",
    "    \n",
    "    test_seq_evolved_1[k] = test_seq_evolved_pertype_1\n",
    "        "
   ]
  },
  {
   "cell_type": "code",
   "execution_count": null,
   "metadata": {},
   "outputs": [],
   "source": [
    "test = test_seq_evolved_1\n",
    "\n",
    "for k in repeat_data_info[\"TypeI\"].keys():\n",
    "    with open('Simulated_' + str(k) + '.fa', 'w') as f:\n",
    "        for i in range(len(test[k])):\n",
    "            f.write(\">\" + str(repeat_data_info[\"TypeI\"][k][\"ID\"][i]) + \"\\n\" + str(test[k][i]) + \"\\n\")      \n"
   ]
  },
  {
   "cell_type": "code",
   "execution_count": null,
   "metadata": {},
   "outputs": [],
   "source": []
  }
 ],
 "metadata": {
  "kernelspec": {
   "display_name": "Python 3",
   "language": "python",
   "name": "python3"
  },
  "language_info": {
   "codemirror_mode": {
    "name": "ipython",
    "version": 3
   },
   "file_extension": ".py",
   "mimetype": "text/x-python",
   "name": "python",
   "nbconvert_exporter": "python",
   "pygments_lexer": "ipython3",
   "version": "3.7.3"
  }
 },
 "nbformat": 4,
 "nbformat_minor": 4
}
