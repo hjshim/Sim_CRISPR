{
 "cells": [
  {
   "cell_type": "code",
   "execution_count": null,
   "metadata": {},
   "outputs": [],
   "source": [
    "# Copyright 2021 The Authors. All Rights Reserved.\n",
    "#\n",
    "# GNU General Public License v3.0\n",
    "# Permissions of this strongest copyleft license are conditioned on \n",
    "# making available complete source code of licensed works and modifications, \n",
    "# which include larger works using a licensed work, under the same license. \n",
    "# Copyright and license notices must be preserved. \n",
    "# Contributors provide an express grant of patent rights. \n",
    "# When a modified version is used to provide a service over a network, \n",
    "# the complete source code of the modified version must be made available.\n",
    "# ==============================================================================\n",
    "\n",
    "# Title: Simulating the evolution of CRISPR\n",
    "# Author: Hyunjin Shim\n",
    "# Date created: 20200727\n",
    "# Email: jinenstar@gmail.com"
   ]
  },
  {
   "cell_type": "markdown",
   "metadata": {},
   "source": [
    "# Simulating the evolution of CRISPR"
   ]
  },
  {
   "cell_type": "code",
   "execution_count": 85,
   "metadata": {},
   "outputs": [],
   "source": [
    "### packages\n",
    "\n",
    "# Data\n",
    "from typing import Dict, List, Tuple\n",
    "from pathlib import Path \n",
    "import glob\n",
    "import numpy as np\n",
    "\n",
    "# Biopython\n",
    "from Bio import SeqIO\n",
    "from Bio.SeqRecord import SeqRecord\n",
    "\n",
    "# Math\n",
    "import random\n",
    "\n",
    "# Plot\n",
    "import matplotlib.pyplot as plt"
   ]
  },
  {
   "cell_type": "code",
   "execution_count": 86,
   "metadata": {},
   "outputs": [],
   "source": [
    "### global variables\n",
    "\n",
    "random.seed(20200727)\n",
    "nt = ['A','T','G','C']\n",
    "\n",
    "# mutation rate: based on bacteria\n",
    "MUTATION_RATE = 1e-5\n",
    "\n",
    "# generation: based on generation time of bacteria (1 hour per gen: 1e6/24/365=114 years)\n",
    "GENERATION = 10000"
   ]
  },
  {
   "cell_type": "code",
   "execution_count": 87,
   "metadata": {},
   "outputs": [],
   "source": [
    "### functions\n",
    "\n",
    "# extract information from fasta files\n",
    "def extract_dataset_info(records: List[SeqRecord]) -> Dict:\n",
    "    # contains info on SeqIO data\n",
    "    seqs_id = [r.id for r in records]\n",
    "    seqs_len = [len(r.seq) for r in records]\n",
    "    seqs = [str(r.seq) for r in records]\n",
    "#    int_seqs = [[nt_vocab[nt] for nt in s] for s in seqs]\n",
    "    d = {\"ID\":seqs_id, \"Seq\":seqs, \"Length\":seqs_len} #\"Int_Seq\":int_seqs, \n",
    "    return d\n",
    "\n",
    "# simulate mutation on a sequence\n",
    "# Finite sites model: A model for the process of mutation acting on DNA sequences of finite length so that the same site may experience a mutation more than once\n",
    "def sim_mutation(times, mu_rate, seq):\n",
    "    gen = 0 # count generation\n",
    "    seq_len = len(seq)\n",
    "    for i in range(times):\n",
    "        mu = np.random.binomial(seq_len, mu_rate)\n",
    "        gen += 1\n",
    "        if mu !=0:\n",
    "            mu_nt = random.choice(nt)\n",
    "            mu_position = random.choice(range(seq_len))\n",
    "            while mu_nt == seq[mu_position]:\n",
    "                #print(\"same nt: \", gen, mu_position, seq[mu_position], mu_nt)\n",
    "                mu_nt = random.choice(nt)\n",
    "            else:\n",
    "                #print(gen, mu_position, seq[mu_position], mu_nt)\n",
    "                string_seq = list(seq)\n",
    "                string_seq[mu_position] = mu_nt\n",
    "                seq = \"\".join(string_seq)\n",
    "    return(seq)"
   ]
  },
  {
   "cell_type": "code",
   "execution_count": 88,
   "metadata": {},
   "outputs": [],
   "source": [
    "### data\n",
    "\n",
    "# location of raw data file\n",
    "#datapath = Path(\"/Users/jinenstar/Desktop/Data/CRISPR/CRISPR-Cas++/Repeat/Data_DR\")\n",
    "datapath = Path(\"/Users/jinenstar/Desktop/Pro_AE_CRISPR/Data\")\n",
    "\n",
    "# data dictionary\n",
    "repeat_data_info = {\"Class1\": {}, \"Class2\": {}}\n",
    "\n",
    "# load test sequences\n",
    "for f in datapath.glob(\"Class1*.fa\"):\n",
    "  records = list(SeqIO.parse(str(f), \"fasta\"))\n",
    "  key = f.stem\n",
    "  repeat_data_info[\"Class1\"][key] = extract_dataset_info(records)\n",
    "\n",
    "# load test sequences\n",
    "for f in datapath.glob(\"Class2*.fa\"):\n",
    "  records = list(SeqIO.parse(str(f), \"fasta\"))\n",
    "  key = f.stem\n",
    "  repeat_data_info[\"Class2\"][key] = extract_dataset_info(records)"
   ]
  },
  {
   "cell_type": "code",
   "execution_count": 89,
   "metadata": {},
   "outputs": [
    {
     "name": "stdout",
     "output_type": "stream",
     "text": [
      "dict_keys(['Class1_5_tps_real_IE_curated copy 62', 'Class1_5_tps_real_IE_curated copy 33', 'Class1_5_tps_real_IE_curated copy 91', 'Class1_5_tps_real_IE_curated copy 56', 'Class1_5_tps_real_IE_curated copy 46', 'Class1_5_tps_real_IE_curated copy 17', 'Class1_5_tps_real_IE_curated copy 81', 'Class1_5_tps_real_IE_curated copy 23', 'Class1_5_tps_real_IE_curated copy 72', 'Class1_5_tps_real_IE_curated copy 52', 'Class1_5_tps_real_IE_curated copy 37', 'Class1_5_tps_real_IE_curated copy 66', 'Class1_5_tps_real_IE_curated copy 95', 'Class1_5_tps_real_IE_curated copy 85', 'Class1_5_tps_real_IE_curated copy 4', 'Class1_5_tps_real_IE_curated copy 76', 'Class1_5_tps_real_IE_curated copy 27', 'Class1_5_tps_real_IE_curated copy 13', 'Class1_5_tps_real_IE_curated copy 42', 'Class1_5_tps_real_IE_curated copy 53', 'Class1_5_tps_real_IE_curated copy 36', 'Class1_5_tps_real_IE_curated copy 67', 'Class1_5_tps_real_IE_curated copy 94', 'Class1_5_tps_real_IE_curated copy 84', 'Class1_5_tps_real_IE_curated copy 5', 'Class1_5_tps_real_IE_curated copy 77', 'Class1_5_tps_real_IE_curated copy 26', 'Class1_5_tps_real_IE_curated copy 12', 'Class1_5_tps_real_IE_curated copy 43', 'Class1_5_tps_real_IE_curated copy 63', 'Class1_5_tps_real_IE_curated copy 32', 'Class1_5_tps_real_IE_curated copy 90', 'Class1_5_tps_real_IE_curated copy 57', 'Class1_5_tps_real_IE_curated copy 47', 'Class1_5_tps_real_IE_curated copy 16', 'Class1_5_tps_real_IE_curated copy 80', 'Class1_5_tps_real_IE_curated copy 1', 'Class1_5_tps_real_IE_curated copy 22', 'Class1_5_tps_real_IE_curated copy 73', 'Class1_5_tps_real_IE_curated copy 68', 'Class1_5_tps_real_IE_curated copy 39', 'Class1_5_tps_real_IE_curated copy 29', 'Class1_5_tps_real_IE_curated copy 78', 'Class1_5_tps_real_IE_curated copy 58', 'Class1_5_tps_real_IE_curated copy 19', 'Class1_5_tps_real_IE_curated copy 48', 'Class1_5_tps_real_IE_curated copy 59', 'Class1_5_tps_real_IE_curated copy 18', 'Class1_5_tps_real_IE_curated copy 49', 'Class1_5_tps_real_IE_curated copy 69', 'Class1_5_tps_real_IE_curated copy 38', 'Class1_5_tps_real_IE_curated copy 28', 'Class1_5_tps_real_IE_curated copy 79', 'Class1_5_tps_real_IE_curated copy 99', 'Class1_5_tps_real_IE_curated copy 89', 'Class1_5_tps_real_IE_curated copy 8', 'Class1_5_tps_real_IE_curated copy 98', 'Class1_5_tps_real_IE_curated copy 88', 'Class1_5_tps_real_IE_curated copy 9', 'Class1_5_tps_real_IE_curated copy 50', 'Class1_5_tps_real_IE_curated copy 100', 'Class1_5_tps_real_IE_curated copy 97', 'Class1_5_tps_real_IE_curated copy 64', 'Class1_5_tps_real_IE_curated copy 35', 'Class1_5_tps_real_IE_curated copy 25', 'Class1_5_tps_real_IE_curated copy 74', 'Class1_5_tps_real_IE_curated copy 87', 'Class1_5_tps_real_IE_curated copy 6', 'Class1_5_tps_real_IE_curated copy 40', 'Class1_5_tps_real_IE_curated copy 11', 'Class1_5_tps_real_IE_curated copy 93', 'Class1_5_tps_real_IE_curated copy 31', 'Class1_5_tps_real_IE_curated copy 60', 'Class1_5_tps_real_IE_curated copy 54', 'Class1_5_tps_real_IE_curated copy 15', 'Class1_5_tps_real_IE_curated copy 44', 'Class1_5_tps_real_IE_curated copy 70', 'Class1_5_tps_real_IE_curated copy 21', 'Class1_5_tps_real_IE_curated copy 83', 'Class1_5_tps_real_IE_curated copy 2', 'Class1_5_tps_real_IE_curated copy 92', 'Class1_5_tps_real_IE_curated copy 30', 'Class1_5_tps_real_IE_curated copy 61', 'Class1_5_tps_real_IE_curated copy 55', 'Class1_5_tps_real_IE_curated copy 14', 'Class1_5_tps_real_IE_curated copy 45', 'Class1_5_tps_real_IE_curated copy 71', 'Class1_5_tps_real_IE_curated copy 20', 'Class1_5_tps_real_IE_curated copy 82', 'Class1_5_tps_real_IE_curated copy 3', 'Class1_5_tps_real_IE_curated copy 51', 'Class1_5_tps_real_IE_curated copy 96', 'Class1_5_tps_real_IE_curated copy 65', 'Class1_5_tps_real_IE_curated copy 34', 'Class1_5_tps_real_IE_curated copy 24', 'Class1_5_tps_real_IE_curated copy 75', 'Class1_5_tps_real_IE_curated copy 86', 'Class1_5_tps_real_IE_curated copy 7', 'Class1_5_tps_real_IE_curated copy 41', 'Class1_5_tps_real_IE_curated copy 10'])\n",
      "dict_keys(['Class2_5_tps_real_IIA_curated copy 59', 'Class2_5_tps_real_IIA_curated copy 4', 'Class2_5_tps_real_IIA_curated copy 49', 'Class2_5_tps_real_IIA_curated copy 18', 'Class2_5_tps_real_IIA_curated copy 38', 'Class2_5_tps_real_IIA_curated copy 69', 'Class2_5_tps_real_IIA_curated copy 79', 'Class2_5_tps_real_IIA_curated copy 28', 'Class2_5_tps_real_IIA_curated copy 39', 'Class2_5_tps_real_IIA_curated copy 68', 'Class2_5_tps_real_IIA_curated copy 1', 'Class2_5_tps_real_IIA_curated copy 78', 'Class2_5_tps_real_IIA_curated copy 29', 'Class2_5_tps_real_IIA_curated copy 58', 'Class2_5_tps_real_IIA_curated copy 5', 'Class2_5_tps_real_IIA_curated copy 48', 'Class2_5_tps_real_IIA_curated copy 19', 'Class2_5_tps_real_IIA_curated copy 94', 'Class2_5_tps_real_IIA_curated copy 67', 'Class2_5_tps_real_IIA_curated copy 36', 'Class2_5_tps_real_IIA_curated copy 53', 'Class2_5_tps_real_IIA_curated copy 43', 'Class2_5_tps_real_IIA_curated copy 12', 'Class2_5_tps_real_IIA_curated copy 26', 'Class2_5_tps_real_IIA_curated copy 77', 'Class2_5_tps_real_IIA_curated copy 84', 'Class2_5_tps_real_IIA_curated copy 57', 'Class2_5_tps_real_IIA_curated copy 90', 'Class2_5_tps_real_IIA_curated copy 32', 'Class2_5_tps_real_IIA_curated copy 63', 'Class2_5_tps_real_IIA_curated copy 73', 'Class2_5_tps_real_IIA_curated copy 22', 'Class2_5_tps_real_IIA_curated copy 80', 'Class2_5_tps_real_IIA_curated copy 16', 'Class2_5_tps_real_IIA_curated copy 47', 'Class2_5_tps_real_IIA_curated copy 56', 'Class2_5_tps_real_IIA_curated copy 91', 'Class2_5_tps_real_IIA_curated copy 33', 'Class2_5_tps_real_IIA_curated copy 62', 'Class2_5_tps_real_IIA_curated copy 72', 'Class2_5_tps_real_IIA_curated copy 23', 'Class2_5_tps_real_IIA_curated copy 81', 'Class2_5_tps_real_IIA_curated copy 17', 'Class2_5_tps_real_IIA_curated copy 46', 'Class2_5_tps_real_IIA_curated copy 95', 'Class2_5_tps_real_IIA_curated copy 66', 'Class2_5_tps_real_IIA_curated copy 37', 'Class2_5_tps_real_IIA_curated copy 52', 'Class2_5_tps_real_IIA_curated copy 42', 'Class2_5_tps_real_IIA_curated copy 13', 'Class2_5_tps_real_IIA_curated copy 27', 'Class2_5_tps_real_IIA_curated copy 76', 'Class2_5_tps_real_IIA_curated copy 85', 'Class2_5_tps_real_IIA_curated copy 8', 'Class2_5_tps_real_IIA_curated copy 55', 'Class2_5_tps_real_IIA_curated copy 61', 'Class2_5_tps_real_IIA_curated copy 30', 'Class2_5_tps_real_IIA_curated copy 92', 'Class2_5_tps_real_IIA_curated copy 82', 'Class2_5_tps_real_IIA_curated copy 20', 'Class2_5_tps_real_IIA_curated copy 71', 'Class2_5_tps_real_IIA_curated copy 45', 'Class2_5_tps_real_IIA_curated copy 14', 'Class2_5_tps_real_IIA_curated copy 34', 'Class2_5_tps_real_IIA_curated copy 65', 'Class2_5_tps_real_IIA_curated copy 96', 'Class2_5_tps_real_IIA_curated copy 100', 'Class2_5_tps_real_IIA_curated copy 51', 'Class2_5_tps_real_IIA_curated copy 10', 'Class2_5_tps_real_IIA_curated copy 41', 'Class2_5_tps_real_IIA_curated copy 86', 'Class2_5_tps_real_IIA_curated copy 75', 'Class2_5_tps_real_IIA_curated copy 24', 'Class2_5_tps_real_IIA_curated copy 35', 'Class2_5_tps_real_IIA_curated copy 64', 'Class2_5_tps_real_IIA_curated copy 97', 'Class2_5_tps_real_IIA_curated copy 50', 'Class2_5_tps_real_IIA_curated copy 11', 'Class2_5_tps_real_IIA_curated copy 40', 'Class2_5_tps_real_IIA_curated copy 87', 'Class2_5_tps_real_IIA_curated copy 74', 'Class2_5_tps_real_IIA_curated copy 25', 'Class2_5_tps_real_IIA_curated copy 9', 'Class2_5_tps_real_IIA_curated copy 54', 'Class2_5_tps_real_IIA_curated copy 60', 'Class2_5_tps_real_IIA_curated copy 31', 'Class2_5_tps_real_IIA_curated copy 93', 'Class2_5_tps_real_IIA_curated copy 83', 'Class2_5_tps_real_IIA_curated copy 21', 'Class2_5_tps_real_IIA_curated copy 70', 'Class2_5_tps_real_IIA_curated copy 44', 'Class2_5_tps_real_IIA_curated copy 15', 'Class2_5_tps_real_IIA_curated copy 98', 'Class2_5_tps_real_IIA_curated copy 2', 'Class2_5_tps_real_IIA_curated copy 88', 'Class2_5_tps_real_IIA_curated copy 6', 'Class2_5_tps_real_IIA_curated copy 7', 'Class2_5_tps_real_IIA_curated copy 99', 'Class2_5_tps_real_IIA_curated copy 3', 'Class2_5_tps_real_IIA_curated copy 89'])\n"
     ]
    }
   ],
   "source": [
    "#print(repeat_data_info.items())\n",
    "#print(repeat_data_info.keys())\n",
    "#print(repeat_data_info.values())\n",
    "print(repeat_data_info[\"Class1\"].keys())\n",
    "print(repeat_data_info[\"Class2\"].keys())"
   ]
  },
  {
   "cell_type": "code",
   "execution_count": 90,
   "metadata": {},
   "outputs": [
    {
     "ename": "KeyError",
     "evalue": "'Class1_5_tps_real_IE_curated'",
     "output_type": "error",
     "traceback": [
      "\u001b[0;31m---------------------------------------------------------------------------\u001b[0m",
      "\u001b[0;31mKeyError\u001b[0m                                  Traceback (most recent call last)",
      "\u001b[0;32m<ipython-input-90-51aa997a9038>\u001b[0m in \u001b[0;36m<module>\u001b[0;34m\u001b[0m\n\u001b[0;32m----> 1\u001b[0;31m \u001b[0mtest\u001b[0m \u001b[0;34m=\u001b[0m \u001b[0mrepeat_data_info\u001b[0m\u001b[0;34m[\u001b[0m\u001b[0;34m\"Class1\"\u001b[0m\u001b[0;34m]\u001b[0m\u001b[0;34m[\u001b[0m\u001b[0;34m\"Class1_5_tps_real_IE_curated\"\u001b[0m\u001b[0;34m]\u001b[0m\u001b[0;34m[\u001b[0m\u001b[0;34m\"Seq\"\u001b[0m\u001b[0;34m]\u001b[0m\u001b[0;34m[\u001b[0m\u001b[0;36m0\u001b[0m\u001b[0;34m]\u001b[0m\u001b[0;34m\u001b[0m\u001b[0;34m\u001b[0m\u001b[0m\n\u001b[0m\u001b[1;32m      2\u001b[0m \u001b[0mm\u001b[0m \u001b[0;34m=\u001b[0m \u001b[0msim_mutation\u001b[0m\u001b[0;34m(\u001b[0m\u001b[0mGENERATION\u001b[0m\u001b[0;34m,\u001b[0m \u001b[0mMUTATION_RATE\u001b[0m\u001b[0;34m,\u001b[0m \u001b[0mtest\u001b[0m\u001b[0;34m)\u001b[0m\u001b[0;34m\u001b[0m\u001b[0;34m\u001b[0m\u001b[0m\n\u001b[1;32m      3\u001b[0m \u001b[0mprint\u001b[0m\u001b[0;34m(\u001b[0m\u001b[0mtest\u001b[0m\u001b[0;34m)\u001b[0m\u001b[0;34m\u001b[0m\u001b[0;34m\u001b[0m\u001b[0m\n\u001b[1;32m      4\u001b[0m \u001b[0mprint\u001b[0m\u001b[0;34m(\u001b[0m\u001b[0mm\u001b[0m\u001b[0;34m)\u001b[0m\u001b[0;34m\u001b[0m\u001b[0;34m\u001b[0m\u001b[0m\n",
      "\u001b[0;31mKeyError\u001b[0m: 'Class1_5_tps_real_IE_curated'"
     ]
    }
   ],
   "source": [
    "test = repeat_data_info[\"Class1\"][\"Class1_5_tps_real_IE_curated\"][\"Seq\"][0]\n",
    "m = sim_mutation(GENERATION, MUTATION_RATE, test)\n",
    "print(test)\n",
    "print(m)"
   ]
  },
  {
   "cell_type": "code",
   "execution_count": 91,
   "metadata": {
    "scrolled": true
   },
   "outputs": [
    {
     "ename": "KeyboardInterrupt",
     "evalue": "",
     "output_type": "error",
     "traceback": [
      "\u001b[0;31m---------------------------------------------------------------------------\u001b[0m",
      "\u001b[0;31mKeyboardInterrupt\u001b[0m                         Traceback (most recent call last)",
      "\u001b[0;32m<ipython-input-91-3d1be91c65e4>\u001b[0m in \u001b[0;36m<module>\u001b[0;34m\u001b[0m\n\u001b[1;32m      7\u001b[0m     \u001b[0mtest_seq_evolved_pertype_2\u001b[0m \u001b[0;34m=\u001b[0m \u001b[0;34m[\u001b[0m\u001b[0;34m]\u001b[0m\u001b[0;34m\u001b[0m\u001b[0;34m\u001b[0m\u001b[0m\n\u001b[1;32m      8\u001b[0m     \u001b[0;32mfor\u001b[0m \u001b[0mi\u001b[0m \u001b[0;32min\u001b[0m \u001b[0mtest_seq\u001b[0m\u001b[0;34m:\u001b[0m\u001b[0;34m\u001b[0m\u001b[0;34m\u001b[0m\u001b[0m\n\u001b[0;32m----> 9\u001b[0;31m         \u001b[0mtest_seq_evolved_pertype_2\u001b[0m\u001b[0;34m.\u001b[0m\u001b[0mappend\u001b[0m\u001b[0;34m(\u001b[0m\u001b[0msim_mutation\u001b[0m\u001b[0;34m(\u001b[0m\u001b[0mGENERATION\u001b[0m\u001b[0;34m,\u001b[0m \u001b[0mMUTATION_RATE\u001b[0m\u001b[0;34m,\u001b[0m \u001b[0mi\u001b[0m\u001b[0;34m)\u001b[0m\u001b[0;34m)\u001b[0m\u001b[0;34m\u001b[0m\u001b[0;34m\u001b[0m\u001b[0m\n\u001b[0m\u001b[1;32m     10\u001b[0m \u001b[0;34m\u001b[0m\u001b[0m\n\u001b[1;32m     11\u001b[0m     \u001b[0mtest_seq_evolved_2\u001b[0m\u001b[0;34m[\u001b[0m\u001b[0mk\u001b[0m\u001b[0;34m]\u001b[0m \u001b[0;34m=\u001b[0m \u001b[0mtest_seq_evolved_pertype_2\u001b[0m\u001b[0;34m\u001b[0m\u001b[0;34m\u001b[0m\u001b[0m\n",
      "\u001b[0;32m<ipython-input-87-0b8f77913668>\u001b[0m in \u001b[0;36msim_mutation\u001b[0;34m(times, mu_rate, seq)\u001b[0m\n\u001b[1;32m     17\u001b[0m     \u001b[0mseq_len\u001b[0m \u001b[0;34m=\u001b[0m \u001b[0mlen\u001b[0m\u001b[0;34m(\u001b[0m\u001b[0mseq\u001b[0m\u001b[0;34m)\u001b[0m\u001b[0;34m\u001b[0m\u001b[0;34m\u001b[0m\u001b[0m\n\u001b[1;32m     18\u001b[0m     \u001b[0;32mfor\u001b[0m \u001b[0mi\u001b[0m \u001b[0;32min\u001b[0m \u001b[0mrange\u001b[0m\u001b[0;34m(\u001b[0m\u001b[0mtimes\u001b[0m\u001b[0;34m)\u001b[0m\u001b[0;34m:\u001b[0m\u001b[0;34m\u001b[0m\u001b[0;34m\u001b[0m\u001b[0m\n\u001b[0;32m---> 19\u001b[0;31m         \u001b[0mmu\u001b[0m \u001b[0;34m=\u001b[0m \u001b[0mnp\u001b[0m\u001b[0;34m.\u001b[0m\u001b[0mrandom\u001b[0m\u001b[0;34m.\u001b[0m\u001b[0mbinomial\u001b[0m\u001b[0;34m(\u001b[0m\u001b[0mseq_len\u001b[0m\u001b[0;34m,\u001b[0m \u001b[0mmu_rate\u001b[0m\u001b[0;34m)\u001b[0m\u001b[0;34m\u001b[0m\u001b[0;34m\u001b[0m\u001b[0m\n\u001b[0m\u001b[1;32m     20\u001b[0m         \u001b[0mgen\u001b[0m \u001b[0;34m+=\u001b[0m \u001b[0;36m1\u001b[0m\u001b[0;34m\u001b[0m\u001b[0;34m\u001b[0m\u001b[0m\n\u001b[1;32m     21\u001b[0m         \u001b[0;32mif\u001b[0m \u001b[0mmu\u001b[0m \u001b[0;34m!=\u001b[0m\u001b[0;36m0\u001b[0m\u001b[0;34m:\u001b[0m\u001b[0;34m\u001b[0m\u001b[0;34m\u001b[0m\u001b[0m\n",
      "\u001b[0;31mKeyboardInterrupt\u001b[0m: "
     ]
    }
   ],
   "source": [
    "test_seq_evolved_2 = {}\n",
    "\n",
    "for k in repeat_data_info[\"Class2\"].keys():\n",
    "    dataset = repeat_data_info[\"Class2\"][k]\n",
    "    test_seq = dataset[\"Seq\"]\n",
    "\n",
    "    test_seq_evolved_pertype_2 = []\n",
    "    for i in test_seq:\n",
    "        test_seq_evolved_pertype_2.append(sim_mutation(GENERATION, MUTATION_RATE, i))\n",
    "    \n",
    "    test_seq_evolved_2[k] = test_seq_evolved_pertype_2  "
   ]
  },
  {
   "cell_type": "code",
   "execution_count": null,
   "metadata": {},
   "outputs": [],
   "source": [
    "test = test_seq_evolved_2\n",
    "\n",
    "for k in repeat_data_info[\"Class2\"].keys():\n",
    "    with open(str(k) + '.fa', 'w') as f:\n",
    "        for i in range(len(test[k])):\n",
    "            f.write(\">\" + str(repeat_data_info[\"Class2\"][k][\"ID\"][i]) + \"\\n\" + str(test[k][i]) + \"\\n\")      "
   ]
  },
  {
   "cell_type": "code",
   "execution_count": null,
   "metadata": {},
   "outputs": [],
   "source": [
    "test_seq_evolved_1 = {}\n",
    "\n",
    "for k in repeat_data_info[\"Class1\"].keys():\n",
    "    dataset = repeat_data_info[\"Class1\"][k]\n",
    "    test_seq = dataset[\"Seq\"]\n",
    "\n",
    "    test_seq_evolved_pertype_1 = []\n",
    "    for i in test_seq:\n",
    "        test_seq_evolved_pertype_1.append(sim_mutation(GENERATION, MUTATION_RATE, i))\n",
    "    \n",
    "    test_seq_evolved_1[k] = test_seq_evolved_pertype_1\n",
    "        "
   ]
  },
  {
   "cell_type": "code",
   "execution_count": null,
   "metadata": {},
   "outputs": [],
   "source": [
    "test = test_seq_evolved_1\n",
    "\n",
    "for k in repeat_data_info[\"Class1\"].keys():\n",
    "    with open(str(k) + '.fa', 'w') as f:\n",
    "        for i in range(len(test[k])):\n",
    "            f.write(\">\" + str(repeat_data_info[\"Class1\"][k][\"ID\"][i]) + \"\\n\" + str(test[k][i]) + \"\\n\")      \n"
   ]
  },
  {
   "cell_type": "code",
   "execution_count": null,
   "metadata": {},
   "outputs": [],
   "source": []
  }
 ],
 "metadata": {
  "kernelspec": {
   "display_name": "Python 3",
   "language": "python",
   "name": "python3"
  },
  "language_info": {
   "codemirror_mode": {
    "name": "ipython",
    "version": 3
   },
   "file_extension": ".py",
   "mimetype": "text/x-python",
   "name": "python",
   "nbconvert_exporter": "python",
   "pygments_lexer": "ipython3",
   "version": "3.7.3"
  }
 },
 "nbformat": 4,
 "nbformat_minor": 4
}
