{
 "cells": [
  {
   "cell_type": "code",
   "execution_count": 1,
   "metadata": {},
   "outputs": [],
   "source": [
    "# Copyright 2019 The Authors. All Rights Reserved.\n",
    "#\n",
    "# GNU General Public License v3.0\n",
    "# Permissions of this strongest copyleft license are conditioned on \n",
    "# making available complete source code of licensed works and modifications, \n",
    "# which include larger works using a licensed work, under the same license. \n",
    "# Copyright and license notices must be preserved. \n",
    "# Contributors provide an express grant of patent rights. \n",
    "# When a modified version is used to provide a service over a network, \n",
    "# the complete source code of the modified version must be made available.\n",
    "# ==============================================================================\n",
    "\n",
    "# Title: Simulating the evolution of CRISPR\n",
    "# Author: Hyunjin Shim\n",
    "# Date created: 20200727\n",
    "# Email: jinenstar@gmail.com"
   ]
  },
  {
   "cell_type": "markdown",
   "metadata": {},
   "source": [
    "# Simulating the evolution of CRISPR\n",
    "## Step 1:"
   ]
  },
  {
   "cell_type": "code",
   "execution_count": 14,
   "metadata": {},
   "outputs": [],
   "source": [
    "# packages\n",
    "\n",
    "# Data\n",
    "from typing import Dict, List, Tuple\n",
    "from pathlib import Path \n",
    "import glob\n",
    "\n",
    "# Biopython\n",
    "from Bio import SeqIO\n",
    "from Bio.SeqRecord import SeqRecord"
   ]
  },
  {
   "cell_type": "code",
   "execution_count": null,
   "metadata": {},
   "outputs": [],
   "source": [
    "# global variables\n",
    "BACTERIA_M = 1e-7"
   ]
  },
  {
   "cell_type": "code",
   "execution_count": 21,
   "metadata": {},
   "outputs": [],
   "source": [
    "# functions\n",
    "\n",
    "def extract_dataset_info(records: List[SeqRecord]) -> Dict:\n",
    "    # contains info on SeqIO data\n",
    "    seqs_id = [r.id for r in records]\n",
    "    seqs_len = [len(r.seq) for r in records]\n",
    "    seqs = [str(r.seq) for r in records]\n",
    "#    int_seqs = [[nt_vocab[nt] for nt in s] for s in seqs]\n",
    "    d = {\"ID\":seqs_id, \"Seq\":seqs, \"Length\":seqs_len} #\"Int_Seq\":int_seqs, \n",
    "    return d"
   ]
  },
  {
   "cell_type": "code",
   "execution_count": 34,
   "metadata": {},
   "outputs": [],
   "source": [
    "# data\n",
    "\n",
    "# location of raw data file\n",
    "datapath = Path(\"/Users/jinenstar/Desktop/Data/CRISPR/CRISPR-Cas++/Repeat/Data_DR\")\n",
    "\n",
    "# data dictionary\n",
    "repeat_data_info = {\"TypeI\": {}, \"TypeII\": {}}\n",
    "\n",
    "# load test sequences\n",
    "for f in datapath.glob(\"TypeI?.fa\"):\n",
    "  records = list(SeqIO.parse(str(f), \"fasta\"))\n",
    "  key = f.stem\n",
    "  repeat_data_info[\"TypeI\"][key] = extract_dataset_info(records)\n",
    "\n",
    "# load test sequences\n",
    "for f in datapath.glob(\"TypeII?.fa\"):\n",
    "  records = list(SeqIO.parse(str(f), \"fasta\"))\n",
    "  key = f.stem\n",
    "  repeat_data_info[\"TypeII\"][key] = extract_dataset_info(records)"
   ]
  },
  {
   "cell_type": "code",
   "execution_count": 36,
   "metadata": {},
   "outputs": [
    {
     "name": "stdout",
     "output_type": "stream",
     "text": [
      "dict_keys(['TypeIB', 'TypeIF', 'TypeIC', 'TypeIU', 'TypeIV', 'TypeID', 'TypeIA', 'TypeIE'])\n",
      "dict_keys(['TypeIIC', 'TypeIIB', 'TypeIIA'])\n"
     ]
    }
   ],
   "source": [
    "#print(repeat_data_info.items())\n",
    "#print(repeat_data_info.keys())\n",
    "#print(repeat_data_info.values())\n",
    "print(repeat_data_info[\"TypeI\"].keys())\n",
    "print(repeat_data_info[\"TypeII\"].keys())"
   ]
  },
  {
   "cell_type": "code",
   "execution_count": null,
   "metadata": {},
   "outputs": [],
   "source": [
    "# Finite sites model: A model for the process of mutation acting on DNA sequences of finite length so that the same site may experience a mutation more than once\n",
    "\n"
   ]
  }
 ],
 "metadata": {
  "kernelspec": {
   "display_name": "Python 3",
   "language": "python",
   "name": "python3"
  },
  "language_info": {
   "codemirror_mode": {
    "name": "ipython",
    "version": 3
   },
   "file_extension": ".py",
   "mimetype": "text/x-python",
   "name": "python",
   "nbconvert_exporter": "python",
   "pygments_lexer": "ipython3",
   "version": "3.7.3"
  }
 },
 "nbformat": 4,
 "nbformat_minor": 4
}
