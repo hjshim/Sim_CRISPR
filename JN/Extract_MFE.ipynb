{
 "cells": [
  {
   "cell_type": "code",
   "execution_count": null,
   "metadata": {},
   "outputs": [],
   "source": [
    "# Copyright 2022 The Authors. All Rights Reserved.\n",
    "#\n",
    "# GNU General Public License v3.0\n",
    "# Permissions of this strongest copyleft license are conditioned on \n",
    "# making available complete source code of licensed works and modifications, \n",
    "# which include larger works using a licensed work, under the same license. \n",
    "# Copyright and license notices must be preserved. \n",
    "# Contributors provide an express grant of patent rights. \n",
    "# When a modified version is used to provide a service over a network, \n",
    "# the complete source code of the modified version must be made available.\n",
    "# ==============================================================================\n",
    "\n",
    "# Title: Extracting MFEs from RNAfold\n",
    "# Author: Hyunjin Shim\n",
    "# Date created: 20220105\n",
    "# Email: jinenstar@gmail.com"
   ]
  },
  {
   "cell_type": "markdown",
   "metadata": {},
   "source": [
    "# Extracting MFEs from RNAfold output file"
   ]
  },
  {
   "cell_type": "code",
   "execution_count": 1,
   "metadata": {},
   "outputs": [],
   "source": [
    "### packages\n",
    "\n",
    "# Data\n",
    "import os\n",
    "from pathlib import Path \n",
    "from typing import Dict, List, Tuple\n",
    "import glob\n",
    "import numpy as np\n",
    "import pandas as pd\n",
    "import re\n",
    "\n",
    "# Biopython\n",
    "from Bio import SeqIO\n",
    "from Bio.SeqRecord import SeqRecord\n",
    "\n",
    "# Math\n",
    "import random\n",
    "import statistics\n",
    "\n",
    "# Plot\n",
    "import matplotlib.pyplot as plt"
   ]
  },
  {
   "cell_type": "code",
   "execution_count": 2,
   "metadata": {},
   "outputs": [],
   "source": [
    "### functions\n",
    "\n",
    "# extract information from fasta files\n",
    "def extract_dataset_info(records: List[SeqRecord]) -> Dict:\n",
    "    # contains info on SeqIO data\n",
    "    seqs_id = [r.id for r in records]\n",
    "    seqs = [str(r.seq) for r in records]\n",
    "    d = {\"ID\":seqs_id, \"Seq\":seqs} \n",
    "    return d"
   ]
  },
  {
   "cell_type": "code",
   "execution_count": 29,
   "metadata": {},
   "outputs": [],
   "source": [
    "# location of raw data file\n",
    "datapath = Path(\"/Users/jinenstar/Desktop/Pro_AE_CRISPR/Data/Simulated_5tps_curated/100_tp1/\")\n",
    "\n",
    "# read fasta file with SeqIO module for convenience\n",
    "repeat_info = {\"Class1\": {}, \"Class2\": {}}\n",
    "\n",
    "# load test sequences\n",
    "for f in datapath.glob(\"Class1*.txt\"):\n",
    "    records = list(SeqIO.parse(str(f), \"fasta\"))\n",
    "    key = f.stem\n",
    "    repeat_info[\"Class1\"][key] = extract_dataset_info(records)\n",
    "\n",
    "for f in datapath.glob(\"Class2*.txt\"):\n",
    "    records = list(SeqIO.parse(str(f), \"fasta\"))\n",
    "    key = f.stem\n",
    "    repeat_info[\"Class2\"][key] = extract_dataset_info(records)"
   ]
  },
  {
   "cell_type": "code",
   "execution_count": 4,
   "metadata": {},
   "outputs": [
    {
     "data": {
      "text/plain": [
       "100"
      ]
     },
     "execution_count": 4,
     "metadata": {},
     "output_type": "execute_result"
    }
   ],
   "source": [
    "#len(repeat_info.keys())\n",
    "len(repeat_info[\"Class1\"])"
   ]
  },
  {
   "cell_type": "code",
   "execution_count": 5,
   "metadata": {},
   "outputs": [
    {
     "data": {
      "text/plain": [
       "'UGGUUUGUCCCGUCUGGAGCCGGGAACCC.(((...(((((........)))))))).(-9.00).(((...(((((........)))))))).[-9.43].(((...(((((........)))))))).{-9.00d=1.19}frequencyofmfestructureinensemble0.494375;ensemblediversity2.04'"
      ]
     },
     "execution_count": 5,
     "metadata": {},
     "output_type": "execute_result"
    }
   ],
   "source": [
    "s=repeat_info[\"Class1\"][\"Class1_5_tps_real_IE_curated copy 1_output\"][\"Seq\"][0]\n",
    "s"
   ]
  },
  {
   "cell_type": "code",
   "execution_count": 36,
   "metadata": {},
   "outputs": [],
   "source": [
    "#Class1: extract MFEs from 100 simulations and store them in a list for averaging\n",
    "MFE_Class1_all = []\n",
    "for key in repeat_info[\"Class1\"].keys():\n",
    "    #print(key)\n",
    "    l = []\n",
    "    for s in repeat_info[\"Class1\"][key][\"Seq\"]:\n",
    "        l.append((re.findall(r\"[-+]?\\d*\\.\\d+|\\d+\",s)))\n",
    "    \n",
    "    MFE_only = [None] * len(l)\n",
    "    for m in range(len(l)):\n",
    "        MFE_only[m] = float(l[m][2])\n",
    "    MFE_Class1_all.append(MFE_only)\n",
    "#     with open(key + '.fa', 'w') as f:\n",
    "#         for i in range(len(MFE_only)):\n",
    "#             f.write(\">\" + str(repeat_info[key][\"ID\"][i]) + \"\\n\" + str(MFE_only[i]) + \"\\n\")      "
   ]
  },
  {
   "cell_type": "code",
   "execution_count": 37,
   "metadata": {},
   "outputs": [],
   "source": [
    "#MFE_Class1_all"
   ]
  },
  {
   "cell_type": "code",
   "execution_count": 38,
   "metadata": {},
   "outputs": [],
   "source": [
    "result1 = [statistics.mean(k) for k in zip(*MFE_Class1_all)]"
   ]
  },
  {
   "cell_type": "code",
   "execution_count": 39,
   "metadata": {},
   "outputs": [],
   "source": [
    "#result1"
   ]
  },
  {
   "cell_type": "code",
   "execution_count": 40,
   "metadata": {},
   "outputs": [],
   "source": [
    "with open(\"t5_100_mean_Class1_IE.fa\", 'w') as f:\n",
    "    for i in range(len(result1)):\n",
    "        f.write(\">\" + str(repeat_info[\"Class1\"][list(repeat_info[\"Class1\"].keys())[0]][\"ID\"][i]) + \"\\n\" + str(result1[i]) + \"\\n\")      "
   ]
  },
  {
   "cell_type": "code",
   "execution_count": null,
   "metadata": {},
   "outputs": [],
   "source": []
  },
  {
   "cell_type": "code",
   "execution_count": 30,
   "metadata": {},
   "outputs": [],
   "source": [
    "#Class2: extract MFEs from 100 simulations and store them in a list for averaging\n",
    "MFE_Class2_all = []\n",
    "for key in repeat_info[\"Class2\"].keys():\n",
    "    #print(key)\n",
    "    l = []\n",
    "    for s in repeat_info[\"Class2\"][key][\"Seq\"]:\n",
    "        l.append((re.findall(r\"[-+]?\\d*\\.\\d+|\\d+\",s)))\n",
    "    \n",
    "    MFE_only = [None] * len(l)\n",
    "    for m in range(len(l)):\n",
    "        MFE_only[m] = float(l[m][2])\n",
    "    MFE_Class2_all.append(MFE_only)"
   ]
  },
  {
   "cell_type": "code",
   "execution_count": 31,
   "metadata": {},
   "outputs": [],
   "source": [
    "#MFE_Class2_all"
   ]
  },
  {
   "cell_type": "code",
   "execution_count": 32,
   "metadata": {},
   "outputs": [],
   "source": [
    "result2 = [statistics.mean(k) for k in zip(*MFE_Class2_all)]"
   ]
  },
  {
   "cell_type": "code",
   "execution_count": 33,
   "metadata": {},
   "outputs": [],
   "source": [
    "#result2"
   ]
  },
  {
   "cell_type": "code",
   "execution_count": 34,
   "metadata": {},
   "outputs": [],
   "source": [
    "with open(\"t1_100_mean_Class2_IIA.fa\", 'w') as f:\n",
    "    for i in range(len(result2)):\n",
    "        f.write(\">\" + str(repeat_info[\"Class2\"][list(repeat_info[\"Class2\"].keys())[0]][\"ID\"][i]) + \"\\n\" + str(result2[i]) + \"\\n\")      "
   ]
  },
  {
   "cell_type": "code",
   "execution_count": null,
   "metadata": {},
   "outputs": [],
   "source": []
  },
  {
   "cell_type": "markdown",
   "metadata": {},
   "source": [
    "### Extra"
   ]
  },
  {
   "cell_type": "code",
   "execution_count": null,
   "metadata": {},
   "outputs": [],
   "source": [
    "# location of raw data file\n",
    "datapath = Path(\"/Users/jinenstar/Desktop/Pro_AE_CRISPR/Sim_CRISPR/Data\")\n",
    "\n",
    "# read fasta file with SeqIO module for convenience\n",
    "file = 'RNAfold_Gmix4.txt'\n",
    "\n",
    "repeat_info = {}\n",
    "\n",
    "# load test sequences\n",
    "for f in datapath.glob(file):\n",
    "    records = list(SeqIO.parse(str(f), \"fasta\"))\n",
    "    repeat_info = extract_dataset_info(records)"
   ]
  },
  {
   "cell_type": "code",
   "execution_count": null,
   "metadata": {},
   "outputs": [],
   "source": [
    "l = []\n",
    "for s in repeat_info[\"Seq\"]:\n",
    "    l.append((re.findall(r\"[-+]?\\d*\\.\\d+|\\d+\",s)))\n",
    "    \n",
    "MFE_only = [None] * len(l)\n",
    "for m in range(len(l)):\n",
    "    MFE_only[m] = l[m][2]\n"
   ]
  },
  {
   "cell_type": "code",
   "execution_count": null,
   "metadata": {},
   "outputs": [],
   "source": [
    "len(repeat_info)\n",
    "s=repeat_info[\"Seq\"][0]\n",
    "s"
   ]
  },
  {
   "cell_type": "code",
   "execution_count": null,
   "metadata": {},
   "outputs": [],
   "source": [
    "# l[0][2]"
   ]
  },
  {
   "cell_type": "code",
   "execution_count": null,
   "metadata": {},
   "outputs": [],
   "source": [
    "# MFE_only = [None] * len(l)\n",
    "\n",
    "# for i in range(len(l)):\n",
    "#     MFE_only[i] = l[i][2]"
   ]
  },
  {
   "cell_type": "code",
   "execution_count": null,
   "metadata": {},
   "outputs": [],
   "source": [
    "#MFE_only"
   ]
  },
  {
   "cell_type": "code",
   "execution_count": null,
   "metadata": {},
   "outputs": [],
   "source": [
    "# with open(file + '.fa', 'w') as f:\n",
    "#     for i in range(len(MFE_only)):\n",
    "#         f.write(\">\" + str(repeat_info[\"ID\"][i]) + \"\\n\" + str(MFE_only[i]) + \"\\n\")      "
   ]
  },
  {
   "cell_type": "code",
   "execution_count": null,
   "metadata": {},
   "outputs": [],
   "source": []
  },
  {
   "cell_type": "code",
   "execution_count": null,
   "metadata": {},
   "outputs": [],
   "source": []
  },
  {
   "cell_type": "code",
   "execution_count": null,
   "metadata": {},
   "outputs": [],
   "source": []
  },
  {
   "cell_type": "code",
   "execution_count": null,
   "metadata": {},
   "outputs": [],
   "source": [
    "d_final\n",
    "ID = list( dict.fromkeys(d_final['ID']) )"
   ]
  },
  {
   "cell_type": "code",
   "execution_count": null,
   "metadata": {},
   "outputs": [],
   "source": [
    "d_final[d_final['ID']==ID[0]]['MFE'][0][2]"
   ]
  },
  {
   "cell_type": "code",
   "execution_count": null,
   "metadata": {},
   "outputs": [],
   "source": [
    "#d_final_len = [None] * len(ID)\n",
    "d_final_dct = {}\n",
    "\n",
    "for i in ID:\n",
    "    d_final_dct['%s' % i] = d_final[d_final['ID']==i]['MFE']\n",
    "    #d_final_len[i] = len(d_final[d_final['ID']==ID[i])]"
   ]
  },
  {
   "cell_type": "code",
   "execution_count": null,
   "metadata": {},
   "outputs": [],
   "source": [
    "d_final_dct.keys()\n",
    "#dict( A = np.array([1,2]), B = np.array([1,2,3,4]) )\n",
    "d_final_dct.values()"
   ]
  },
  {
   "cell_type": "code",
   "execution_count": null,
   "metadata": {},
   "outputs": [],
   "source": [
    "pd.DataFrame(dict([ (k,pd.Series(v)) for k,v in d_final_dct.items() ]))"
   ]
  },
  {
   "cell_type": "code",
   "execution_count": null,
   "metadata": {},
   "outputs": [],
   "source": [
    "#multiple line plots\n",
    "plt.plot(range(1,len(d_final0)), 'MFE', data=d_final0)\n",
    "\n",
    "#show legend\n",
    "plt.legend()\n",
    "\n",
    "#show graph\n",
    "plot.show()"
   ]
  }
 ],
 "metadata": {
  "kernelspec": {
   "display_name": "Python 3",
   "language": "python",
   "name": "python3"
  },
  "language_info": {
   "codemirror_mode": {
    "name": "ipython",
    "version": 3
   },
   "file_extension": ".py",
   "mimetype": "text/x-python",
   "name": "python",
   "nbconvert_exporter": "python",
   "pygments_lexer": "ipython3",
   "version": "3.7.3"
  }
 },
 "nbformat": 4,
 "nbformat_minor": 4
}
